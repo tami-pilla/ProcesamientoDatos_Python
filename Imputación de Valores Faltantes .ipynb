{
 "cells": [
  {
   "cell_type": "markdown",
   "id": "f04cdca3",
   "metadata": {},
   "source": []
  },
  {
   "cell_type": "code",
   "execution_count": 1,
   "id": "0b4a8f9b",
   "metadata": {},
   "outputs": [],
   "source": [
    "import pandas as pd\n",
    "\n",
    "import warnings\n",
    "warnings.filterwarnings('ignore')"
   ]
  },
  {
   "cell_type": "code",
   "execution_count": 2,
   "id": "01700e6b",
   "metadata": {},
   "outputs": [
    {
     "data": {
      "text/html": [
       "<div>\n",
       "<style scoped>\n",
       "    .dataframe tbody tr th:only-of-type {\n",
       "        vertical-align: middle;\n",
       "    }\n",
       "\n",
       "    .dataframe tbody tr th {\n",
       "        vertical-align: top;\n",
       "    }\n",
       "\n",
       "    .dataframe thead th {\n",
       "        text-align: right;\n",
       "    }\n",
       "</style>\n",
       "<table border=\"1\" class=\"dataframe\">\n",
       "  <thead>\n",
       "    <tr style=\"text-align: right;\">\n",
       "      <th></th>\n",
       "      <th>bill_length_mm</th>\n",
       "      <th>bill_depth_mm</th>\n",
       "      <th>flipper_length_mm</th>\n",
       "      <th>body_mass_g</th>\n",
       "      <th>sex</th>\n",
       "      <th>species_Adelie</th>\n",
       "      <th>species_Chinstrap</th>\n",
       "      <th>species_Gentoo</th>\n",
       "      <th>island_Biscoe</th>\n",
       "      <th>island_Dream</th>\n",
       "      <th>island_Torgersen</th>\n",
       "    </tr>\n",
       "  </thead>\n",
       "  <tbody>\n",
       "    <tr>\n",
       "      <th>0</th>\n",
       "      <td>39.1</td>\n",
       "      <td>18.7</td>\n",
       "      <td>181.0</td>\n",
       "      <td>3750.0</td>\n",
       "      <td>0.0</td>\n",
       "      <td>1</td>\n",
       "      <td>0</td>\n",
       "      <td>0</td>\n",
       "      <td>0</td>\n",
       "      <td>0</td>\n",
       "      <td>1</td>\n",
       "    </tr>\n",
       "    <tr>\n",
       "      <th>1</th>\n",
       "      <td>39.5</td>\n",
       "      <td>17.4</td>\n",
       "      <td>186.0</td>\n",
       "      <td>3800.0</td>\n",
       "      <td>1.0</td>\n",
       "      <td>1</td>\n",
       "      <td>0</td>\n",
       "      <td>0</td>\n",
       "      <td>0</td>\n",
       "      <td>0</td>\n",
       "      <td>1</td>\n",
       "    </tr>\n",
       "    <tr>\n",
       "      <th>2</th>\n",
       "      <td>40.3</td>\n",
       "      <td>18.0</td>\n",
       "      <td>195.0</td>\n",
       "      <td>3250.0</td>\n",
       "      <td>1.0</td>\n",
       "      <td>1</td>\n",
       "      <td>0</td>\n",
       "      <td>0</td>\n",
       "      <td>0</td>\n",
       "      <td>0</td>\n",
       "      <td>1</td>\n",
       "    </tr>\n",
       "    <tr>\n",
       "      <th>3</th>\n",
       "      <td>NaN</td>\n",
       "      <td>NaN</td>\n",
       "      <td>NaN</td>\n",
       "      <td>NaN</td>\n",
       "      <td>NaN</td>\n",
       "      <td>1</td>\n",
       "      <td>0</td>\n",
       "      <td>0</td>\n",
       "      <td>0</td>\n",
       "      <td>0</td>\n",
       "      <td>1</td>\n",
       "    </tr>\n",
       "    <tr>\n",
       "      <th>4</th>\n",
       "      <td>36.7</td>\n",
       "      <td>19.3</td>\n",
       "      <td>193.0</td>\n",
       "      <td>3450.0</td>\n",
       "      <td>1.0</td>\n",
       "      <td>1</td>\n",
       "      <td>0</td>\n",
       "      <td>0</td>\n",
       "      <td>0</td>\n",
       "      <td>0</td>\n",
       "      <td>1</td>\n",
       "    </tr>\n",
       "  </tbody>\n",
       "</table>\n",
       "</div>"
      ],
      "text/plain": [
       "   bill_length_mm  bill_depth_mm  flipper_length_mm  body_mass_g  sex  \\\n",
       "0            39.1           18.7              181.0       3750.0  0.0   \n",
       "1            39.5           17.4              186.0       3800.0  1.0   \n",
       "2            40.3           18.0              195.0       3250.0  1.0   \n",
       "3             NaN            NaN                NaN          NaN  NaN   \n",
       "4            36.7           19.3              193.0       3450.0  1.0   \n",
       "\n",
       "   species_Adelie  species_Chinstrap  species_Gentoo  island_Biscoe  \\\n",
       "0               1                  0               0              0   \n",
       "1               1                  0               0              0   \n",
       "2               1                  0               0              0   \n",
       "3               1                  0               0              0   \n",
       "4               1                  0               0              0   \n",
       "\n",
       "   island_Dream  island_Torgersen  \n",
       "0             0                 1  \n",
       "1             0                 1  \n",
       "2             0                 1  \n",
       "3             0                 1  \n",
       "4             0                 1  "
      ]
     },
     "execution_count": 2,
     "metadata": {},
     "output_type": "execute_result"
    }
   ],
   "source": [
    "data = pd.read_csv(\"penguins-bi.csv\")\n",
    "data.head()"
   ]
  },
  {
   "cell_type": "code",
   "execution_count": 3,
   "id": "57023f42",
   "metadata": {},
   "outputs": [
    {
     "data": {
      "text/plain": [
       "(344, 11)"
      ]
     },
     "execution_count": 3,
     "metadata": {},
     "output_type": "execute_result"
    }
   ],
   "source": [
    "data.shape"
   ]
  },
  {
   "cell_type": "code",
   "execution_count": 4,
   "id": "63626d93",
   "metadata": {},
   "outputs": [
    {
     "name": "stdout",
     "output_type": "stream",
     "text": [
      "<class 'pandas.core.frame.DataFrame'>\n",
      "RangeIndex: 344 entries, 0 to 343\n",
      "Data columns (total 11 columns):\n",
      " #   Column             Non-Null Count  Dtype  \n",
      "---  ------             --------------  -----  \n",
      " 0   bill_length_mm     318 non-null    float64\n",
      " 1   bill_depth_mm      342 non-null    float64\n",
      " 2   flipper_length_mm  342 non-null    float64\n",
      " 3   body_mass_g        323 non-null    float64\n",
      " 4   sex                333 non-null    float64\n",
      " 5   species_Adelie     344 non-null    int64  \n",
      " 6   species_Chinstrap  344 non-null    int64  \n",
      " 7   species_Gentoo     344 non-null    int64  \n",
      " 8   island_Biscoe      344 non-null    int64  \n",
      " 9   island_Dream       344 non-null    int64  \n",
      " 10  island_Torgersen   344 non-null    int64  \n",
      "dtypes: float64(5), int64(6)\n",
      "memory usage: 29.7 KB\n"
     ]
    }
   ],
   "source": [
    "data.info()"
   ]
  },
  {
   "cell_type": "code",
   "execution_count": 5,
   "id": "1185d77b",
   "metadata": {},
   "outputs": [
    {
     "data": {
      "text/plain": [
       "bill_length_mm       26\n",
       "bill_depth_mm         2\n",
       "flipper_length_mm     2\n",
       "body_mass_g          21\n",
       "sex                  11\n",
       "species_Adelie        0\n",
       "species_Chinstrap     0\n",
       "species_Gentoo        0\n",
       "island_Biscoe         0\n",
       "island_Dream          0\n",
       "island_Torgersen      0\n",
       "dtype: int64"
      ]
     },
     "execution_count": 5,
     "metadata": {},
     "output_type": "execute_result"
    }
   ],
   "source": [
    "data.isnull().sum()"
   ]
  },
  {
   "cell_type": "markdown",
   "id": "3e1afa29",
   "metadata": {},
   "source": [
    "## **Imputación de valores con medidas de tendencia central** \n",
    "- Reemplazo los valores faltantes de las columnas *'bill_depth_mm'* y *'flipper_length_mm'*  con el **valor promedio** de los datos válidos de las mismas.\n",
    "<br> <br>\n",
    "- También podría reemplazarse con valores como la **mediana** o la **moda**. <br> Todas estas medidas solo tienen en cuenta la distribución de esa sola variable (columna)"
   ]
  },
  {
   "cell_type": "code",
   "execution_count": 6,
   "id": "e0fe570a",
   "metadata": {},
   "outputs": [],
   "source": [
    "data['bill_depth_mm'] = data['bill_depth_mm'].fillna(data['bill_depth_mm'].mean())"
   ]
  },
  {
   "cell_type": "code",
   "execution_count": 7,
   "id": "eb2b6211",
   "metadata": {},
   "outputs": [],
   "source": [
    "data['flipper_length_mm'] = data['flipper_length_mm'].fillna(data['flipper_length_mm'].mean())"
   ]
  },
  {
   "cell_type": "markdown",
   "id": "57430a96",
   "metadata": {},
   "source": [
    "- Para la variable *'sex'* se utiliza el método **.fillna()** con el parámetro **method = forward-fill**, el cual completa los valores faltantes tomando al último valor no-nulo observado y propagandolo hasta encontrar otro valor no-nulo."
   ]
  },
  {
   "cell_type": "code",
   "execution_count": 8,
   "id": "a38369e8",
   "metadata": {},
   "outputs": [],
   "source": [
    "data['sex'] = data['sex'].fillna(method='ffill')"
   ]
  },
  {
   "cell_type": "markdown",
   "id": "2b9a01c6",
   "metadata": {},
   "source": [
    "- La suma de los **valores faltantes** de las variables *'bill_depth_mm'* , *'flipper_length_mm'* y *'sex'* ahora es 0"
   ]
  },
  {
   "cell_type": "code",
   "execution_count": 9,
   "id": "432be2c2",
   "metadata": {},
   "outputs": [
    {
     "data": {
      "text/plain": [
       "bill_length_mm       26\n",
       "bill_depth_mm         0\n",
       "flipper_length_mm     0\n",
       "body_mass_g          21\n",
       "sex                   0\n",
       "species_Adelie        0\n",
       "species_Chinstrap     0\n",
       "species_Gentoo        0\n",
       "island_Biscoe         0\n",
       "island_Dream          0\n",
       "island_Torgersen      0\n",
       "dtype: int64"
      ]
     },
     "execution_count": 9,
     "metadata": {},
     "output_type": "execute_result"
    }
   ],
   "source": [
    "data.isnull().sum()"
   ]
  },
  {
   "cell_type": "markdown",
   "id": "5442eb75",
   "metadata": {},
   "source": [
    "##  Imputación de valores con un modelo de regresión lineal\n",
    "- Se utilizan los datos de las otras variables (columnas) para predecir los valores faltantes mediante un modelo de regresión, el cual estima la relación entre una variable dependiente (y) y una independiente (x)."
   ]
  },
  {
   "cell_type": "markdown",
   "id": "b1481e20",
   "metadata": {},
   "source": [
    "- Primero separo los **valores nulos** de la variable *'bill_length_mm'* y *body_mass_g* y los guardo en una variable como un dataset para **prueba**"
   ]
  },
  {
   "cell_type": "code",
   "execution_count": 10,
   "id": "9b506d2e",
   "metadata": {
    "scrolled": true
   },
   "outputs": [
    {
     "data": {
      "text/html": [
       "<div>\n",
       "<style scoped>\n",
       "    .dataframe tbody tr th:only-of-type {\n",
       "        vertical-align: middle;\n",
       "    }\n",
       "\n",
       "    .dataframe tbody tr th {\n",
       "        vertical-align: top;\n",
       "    }\n",
       "\n",
       "    .dataframe thead th {\n",
       "        text-align: right;\n",
       "    }\n",
       "</style>\n",
       "<table border=\"1\" class=\"dataframe\">\n",
       "  <thead>\n",
       "    <tr style=\"text-align: right;\">\n",
       "      <th></th>\n",
       "      <th>bill_length_mm</th>\n",
       "      <th>bill_depth_mm</th>\n",
       "      <th>flipper_length_mm</th>\n",
       "      <th>body_mass_g</th>\n",
       "      <th>sex</th>\n",
       "      <th>species_Adelie</th>\n",
       "      <th>species_Chinstrap</th>\n",
       "      <th>species_Gentoo</th>\n",
       "      <th>island_Biscoe</th>\n",
       "      <th>island_Dream</th>\n",
       "      <th>island_Torgersen</th>\n",
       "    </tr>\n",
       "  </thead>\n",
       "  <tbody>\n",
       "    <tr>\n",
       "      <th>3</th>\n",
       "      <td>NaN</td>\n",
       "      <td>17.15117</td>\n",
       "      <td>200.915205</td>\n",
       "      <td>NaN</td>\n",
       "      <td>1.0</td>\n",
       "      <td>1</td>\n",
       "      <td>0</td>\n",
       "      <td>0</td>\n",
       "      <td>0</td>\n",
       "      <td>0</td>\n",
       "      <td>1</td>\n",
       "    </tr>\n",
       "    <tr>\n",
       "      <th>7</th>\n",
       "      <td>NaN</td>\n",
       "      <td>19.60000</td>\n",
       "      <td>195.000000</td>\n",
       "      <td>NaN</td>\n",
       "      <td>0.0</td>\n",
       "      <td>1</td>\n",
       "      <td>0</td>\n",
       "      <td>0</td>\n",
       "      <td>0</td>\n",
       "      <td>0</td>\n",
       "      <td>1</td>\n",
       "    </tr>\n",
       "    <tr>\n",
       "      <th>11</th>\n",
       "      <td>NaN</td>\n",
       "      <td>17.30000</td>\n",
       "      <td>180.000000</td>\n",
       "      <td>NaN</td>\n",
       "      <td>0.0</td>\n",
       "      <td>1</td>\n",
       "      <td>0</td>\n",
       "      <td>0</td>\n",
       "      <td>0</td>\n",
       "      <td>0</td>\n",
       "      <td>1</td>\n",
       "    </tr>\n",
       "    <tr>\n",
       "      <th>12</th>\n",
       "      <td>NaN</td>\n",
       "      <td>17.60000</td>\n",
       "      <td>182.000000</td>\n",
       "      <td>NaN</td>\n",
       "      <td>1.0</td>\n",
       "      <td>1</td>\n",
       "      <td>0</td>\n",
       "      <td>0</td>\n",
       "      <td>0</td>\n",
       "      <td>0</td>\n",
       "      <td>1</td>\n",
       "    </tr>\n",
       "    <tr>\n",
       "      <th>18</th>\n",
       "      <td>NaN</td>\n",
       "      <td>18.40000</td>\n",
       "      <td>184.000000</td>\n",
       "      <td>NaN</td>\n",
       "      <td>1.0</td>\n",
       "      <td>1</td>\n",
       "      <td>0</td>\n",
       "      <td>0</td>\n",
       "      <td>0</td>\n",
       "      <td>0</td>\n",
       "      <td>1</td>\n",
       "    </tr>\n",
       "  </tbody>\n",
       "</table>\n",
       "</div>"
      ],
      "text/plain": [
       "    bill_length_mm  bill_depth_mm  flipper_length_mm  body_mass_g  sex  \\\n",
       "3              NaN       17.15117         200.915205          NaN  1.0   \n",
       "7              NaN       19.60000         195.000000          NaN  0.0   \n",
       "11             NaN       17.30000         180.000000          NaN  0.0   \n",
       "12             NaN       17.60000         182.000000          NaN  1.0   \n",
       "18             NaN       18.40000         184.000000          NaN  1.0   \n",
       "\n",
       "    species_Adelie  species_Chinstrap  species_Gentoo  island_Biscoe  \\\n",
       "3                1                  0               0              0   \n",
       "7                1                  0               0              0   \n",
       "11               1                  0               0              0   \n",
       "12               1                  0               0              0   \n",
       "18               1                  0               0              0   \n",
       "\n",
       "    island_Dream  island_Torgersen  \n",
       "3              0                 1  \n",
       "7              0                 1  \n",
       "11             0                 1  \n",
       "12             0                 1  \n",
       "18             0                 1  "
      ]
     },
     "execution_count": 10,
     "metadata": {},
     "output_type": "execute_result"
    }
   ],
   "source": [
    "test = data[data['bill_length_mm'].isnull()==True]\n",
    "test = data[data['body_mass_g'].isnull()==True]\n",
    "test.head()"
   ]
  },
  {
   "cell_type": "code",
   "execution_count": 11,
   "id": "35d0dee7",
   "metadata": {},
   "outputs": [
    {
     "data": {
      "text/plain": [
       "(21, 11)"
      ]
     },
     "execution_count": 11,
     "metadata": {},
     "output_type": "execute_result"
    }
   ],
   "source": [
    "test.shape"
   ]
  },
  {
   "cell_type": "code",
   "execution_count": 12,
   "id": "017cbcbd",
   "metadata": {},
   "outputs": [
    {
     "data": {
      "text/plain": [
       "bill_length_mm        2\n",
       "bill_depth_mm        21\n",
       "flipper_length_mm    21\n",
       "body_mass_g           0\n",
       "sex                  21\n",
       "species_Adelie       21\n",
       "species_Chinstrap    21\n",
       "species_Gentoo       21\n",
       "island_Biscoe        21\n",
       "island_Dream         21\n",
       "island_Torgersen     21\n",
       "dtype: int64"
      ]
     },
     "execution_count": 12,
     "metadata": {},
     "output_type": "execute_result"
    }
   ],
   "source": [
    "test.notnull().sum()"
   ]
  },
  {
   "cell_type": "markdown",
   "id": "e3c9a38b",
   "metadata": {},
   "source": [
    " - En el grupo de **test** hay 2 valores **no nulos** en la variable *'bill_length_mm'*, los cuales los reemplazo por un NaN"
   ]
  },
  {
   "cell_type": "code",
   "execution_count": 13,
   "id": "0372b356",
   "metadata": {},
   "outputs": [
    {
     "data": {
      "text/plain": [
       "array([ nan, 42.1, 36.7])"
      ]
     },
     "execution_count": 13,
     "metadata": {},
     "output_type": "execute_result"
    }
   ],
   "source": [
    "test['bill_length_mm'].unique()"
   ]
  },
  {
   "cell_type": "code",
   "execution_count": 14,
   "id": "c46c3e6b",
   "metadata": {},
   "outputs": [],
   "source": [
    "import numpy as np"
   ]
  },
  {
   "cell_type": "code",
   "execution_count": 15,
   "id": "0cf9300f",
   "metadata": {
    "scrolled": true
   },
   "outputs": [],
   "source": [
    "test['bill_length_mm'] = test['bill_length_mm'].replace(42.1, np.nan)\n",
    "test['bill_length_mm'] = test['bill_length_mm'].replace(36.7, np.nan)"
   ]
  },
  {
   "cell_type": "code",
   "execution_count": 16,
   "id": "df5cdfcb",
   "metadata": {},
   "outputs": [
    {
     "data": {
      "text/plain": [
       "array([nan])"
      ]
     },
     "execution_count": 16,
     "metadata": {},
     "output_type": "execute_result"
    }
   ],
   "source": [
    "test['bill_length_mm'].unique()"
   ]
  },
  {
   "cell_type": "markdown",
   "id": "1263dc71",
   "metadata": {},
   "source": [
    "- Luego creo otra variable para **entrenar** al modelo con un dataset que contiene todos los valores **no nulos** de la columna *'bill_length_mm'* y *'body_mass_g'*"
   ]
  },
  {
   "cell_type": "code",
   "execution_count": 17,
   "id": "b0bae974",
   "metadata": {},
   "outputs": [
    {
     "data": {
      "text/html": [
       "<div>\n",
       "<style scoped>\n",
       "    .dataframe tbody tr th:only-of-type {\n",
       "        vertical-align: middle;\n",
       "    }\n",
       "\n",
       "    .dataframe tbody tr th {\n",
       "        vertical-align: top;\n",
       "    }\n",
       "\n",
       "    .dataframe thead th {\n",
       "        text-align: right;\n",
       "    }\n",
       "</style>\n",
       "<table border=\"1\" class=\"dataframe\">\n",
       "  <thead>\n",
       "    <tr style=\"text-align: right;\">\n",
       "      <th></th>\n",
       "      <th>bill_length_mm</th>\n",
       "      <th>bill_depth_mm</th>\n",
       "      <th>flipper_length_mm</th>\n",
       "      <th>body_mass_g</th>\n",
       "      <th>sex</th>\n",
       "      <th>species_Adelie</th>\n",
       "      <th>species_Chinstrap</th>\n",
       "      <th>species_Gentoo</th>\n",
       "      <th>island_Biscoe</th>\n",
       "      <th>island_Dream</th>\n",
       "      <th>island_Torgersen</th>\n",
       "    </tr>\n",
       "  </thead>\n",
       "  <tbody>\n",
       "    <tr>\n",
       "      <th>0</th>\n",
       "      <td>39.1</td>\n",
       "      <td>18.7</td>\n",
       "      <td>181.0</td>\n",
       "      <td>3750.0</td>\n",
       "      <td>0.0</td>\n",
       "      <td>1</td>\n",
       "      <td>0</td>\n",
       "      <td>0</td>\n",
       "      <td>0</td>\n",
       "      <td>0</td>\n",
       "      <td>1</td>\n",
       "    </tr>\n",
       "    <tr>\n",
       "      <th>1</th>\n",
       "      <td>39.5</td>\n",
       "      <td>17.4</td>\n",
       "      <td>186.0</td>\n",
       "      <td>3800.0</td>\n",
       "      <td>1.0</td>\n",
       "      <td>1</td>\n",
       "      <td>0</td>\n",
       "      <td>0</td>\n",
       "      <td>0</td>\n",
       "      <td>0</td>\n",
       "      <td>1</td>\n",
       "    </tr>\n",
       "    <tr>\n",
       "      <th>2</th>\n",
       "      <td>40.3</td>\n",
       "      <td>18.0</td>\n",
       "      <td>195.0</td>\n",
       "      <td>3250.0</td>\n",
       "      <td>1.0</td>\n",
       "      <td>1</td>\n",
       "      <td>0</td>\n",
       "      <td>0</td>\n",
       "      <td>0</td>\n",
       "      <td>0</td>\n",
       "      <td>1</td>\n",
       "    </tr>\n",
       "    <tr>\n",
       "      <th>4</th>\n",
       "      <td>36.7</td>\n",
       "      <td>19.3</td>\n",
       "      <td>193.0</td>\n",
       "      <td>3450.0</td>\n",
       "      <td>1.0</td>\n",
       "      <td>1</td>\n",
       "      <td>0</td>\n",
       "      <td>0</td>\n",
       "      <td>0</td>\n",
       "      <td>0</td>\n",
       "      <td>1</td>\n",
       "    </tr>\n",
       "    <tr>\n",
       "      <th>5</th>\n",
       "      <td>39.3</td>\n",
       "      <td>20.6</td>\n",
       "      <td>190.0</td>\n",
       "      <td>3650.0</td>\n",
       "      <td>0.0</td>\n",
       "      <td>1</td>\n",
       "      <td>0</td>\n",
       "      <td>0</td>\n",
       "      <td>0</td>\n",
       "      <td>0</td>\n",
       "      <td>1</td>\n",
       "    </tr>\n",
       "  </tbody>\n",
       "</table>\n",
       "</div>"
      ],
      "text/plain": [
       "   bill_length_mm  bill_depth_mm  flipper_length_mm  body_mass_g  sex  \\\n",
       "0            39.1           18.7              181.0       3750.0  0.0   \n",
       "1            39.5           17.4              186.0       3800.0  1.0   \n",
       "2            40.3           18.0              195.0       3250.0  1.0   \n",
       "4            36.7           19.3              193.0       3450.0  1.0   \n",
       "5            39.3           20.6              190.0       3650.0  0.0   \n",
       "\n",
       "   species_Adelie  species_Chinstrap  species_Gentoo  island_Biscoe  \\\n",
       "0               1                  0               0              0   \n",
       "1               1                  0               0              0   \n",
       "2               1                  0               0              0   \n",
       "4               1                  0               0              0   \n",
       "5               1                  0               0              0   \n",
       "\n",
       "   island_Dream  island_Torgersen  \n",
       "0             0                 1  \n",
       "1             0                 1  \n",
       "2             0                 1  \n",
       "4             0                 1  \n",
       "5             0                 1  "
      ]
     },
     "execution_count": 17,
     "metadata": {},
     "output_type": "execute_result"
    }
   ],
   "source": [
    "train = data[data['bill_length_mm'].isnull()==False]\n",
    "train = data[data['body_mass_g'].isnull()==False]\n",
    "train.head()"
   ]
  },
  {
   "cell_type": "code",
   "execution_count": 18,
   "id": "da5a6c44",
   "metadata": {},
   "outputs": [
    {
     "data": {
      "text/plain": [
       "(323, 11)"
      ]
     },
     "execution_count": 18,
     "metadata": {},
     "output_type": "execute_result"
    }
   ],
   "source": [
    "train.shape"
   ]
  },
  {
   "cell_type": "code",
   "execution_count": 19,
   "id": "d316042b",
   "metadata": {},
   "outputs": [
    {
     "data": {
      "text/plain": [
       "bill_length_mm       316\n",
       "bill_depth_mm        323\n",
       "flipper_length_mm    323\n",
       "body_mass_g          323\n",
       "sex                  323\n",
       "species_Adelie       323\n",
       "species_Chinstrap    323\n",
       "species_Gentoo       323\n",
       "island_Biscoe        323\n",
       "island_Dream         323\n",
       "island_Torgersen     323\n",
       "dtype: int64"
      ]
     },
     "execution_count": 19,
     "metadata": {},
     "output_type": "execute_result"
    }
   ],
   "source": [
    "train.notnull().sum()"
   ]
  },
  {
   "cell_type": "markdown",
   "id": "285058a5",
   "metadata": {},
   "source": [
    "- En el grupo de **train** hay 7 **valores no nulos** en la variable *'bill_length_mm'*,  los cuales reemplazo con el valor promedio"
   ]
  },
  {
   "cell_type": "code",
   "execution_count": 20,
   "id": "0428dc9a",
   "metadata": {},
   "outputs": [],
   "source": [
    "train['bill_length_mm'] = train['bill_length_mm'].fillna(train['bill_length_mm'].mean())"
   ]
  },
  {
   "cell_type": "markdown",
   "id": "553a6003",
   "metadata": {},
   "source": [
    "- Creo variables **x_train, y_train** a partir de los datos separados para el entrenamiento"
   ]
  },
  {
   "cell_type": "code",
   "execution_count": 21,
   "id": "a406b531",
   "metadata": {},
   "outputs": [],
   "source": [
    "cols = ['bill_length_mm', 'body_mass_g' ]"
   ]
  },
  {
   "cell_type": "code",
   "execution_count": 22,
   "id": "d3f52595",
   "metadata": {},
   "outputs": [],
   "source": [
    "x_train = train.drop(cols, axis=1)\n",
    "y_train = train[cols]"
   ]
  },
  {
   "cell_type": "markdown",
   "id": "b338bc4e",
   "metadata": {},
   "source": [
    "- Importo el **algoritmo de regresió lineal**"
   ]
  },
  {
   "cell_type": "code",
   "execution_count": 23,
   "id": "2a8a6aa4",
   "metadata": {},
   "outputs": [],
   "source": [
    "from sklearn.linear_model import LinearRegression"
   ]
  },
  {
   "cell_type": "code",
   "execution_count": 24,
   "id": "aa3533c9",
   "metadata": {},
   "outputs": [],
   "source": [
    "regresion_lineal = LinearRegression()"
   ]
  },
  {
   "cell_type": "markdown",
   "id": "02a680e6",
   "metadata": {},
   "source": [
    "- **Entreno** los datos"
   ]
  },
  {
   "cell_type": "code",
   "execution_count": 25,
   "id": "8022dd70",
   "metadata": {},
   "outputs": [
    {
     "data": {
      "text/plain": [
       "LinearRegression()"
      ]
     },
     "execution_count": 25,
     "metadata": {},
     "output_type": "execute_result"
    }
   ],
   "source": [
    "regresion_lineal.fit(x_train, y_train)"
   ]
  },
  {
   "cell_type": "markdown",
   "id": "ddc83042",
   "metadata": {},
   "source": [
    "- Primero elimino en dataset de **prueba** las columnas de las cuales quiero predecir los valores faltantes\n",
    "<br>\n",
    "- Luego aplico el modelo para hacer la **predicción** a los valores que quedaron en el dataset de prueba "
   ]
  },
  {
   "cell_type": "code",
   "execution_count": 26,
   "id": "55f69608",
   "metadata": {},
   "outputs": [],
   "source": [
    "test.drop(cols, axis=1, inplace=True)"
   ]
  },
  {
   "cell_type": "code",
   "execution_count": 27,
   "id": "8fc8effa",
   "metadata": {},
   "outputs": [],
   "source": [
    "prediccion = regresion_lineal.predict(test)"
   ]
  },
  {
   "cell_type": "code",
   "execution_count": 28,
   "id": "0c8e94c7",
   "metadata": {
    "scrolled": false
   },
   "outputs": [
    {
     "data": {
      "text/plain": [
       "array([[  38.75201168, 3547.63859718],\n",
       "       [  41.4420073 , 4026.52956292],\n",
       "       [  39.1295268 , 3522.6383057 ],\n",
       "       [  37.22003633, 3220.00510617],\n",
       "       [  37.73224487, 3332.52680497],\n",
       "       [  39.69630749, 3768.89590735],\n",
       "       [  39.54430549, 3815.01289831],\n",
       "       [  40.57924985, 3956.96829909],\n",
       "       [  40.58799734, 3961.66914727],\n",
       "       [  37.90509327, 3366.82949694],\n",
       "       [  41.23537439, 3980.58071377],\n",
       "       [  38.16994502, 3427.79119451],\n",
       "       [  41.17775825, 3969.14648311],\n",
       "       [  35.62730744, 3071.48267344],\n",
       "       [  36.63781748, 3210.07138298],\n",
       "       [  38.62028803, 3644.02309932],\n",
       "       [  41.14153246, 4083.38061589],\n",
       "       [  38.20641949, 3548.54678326],\n",
       "       [  37.60766241, 3301.37887772],\n",
       "       [  37.06438764, 3384.84515157],\n",
       "       [  45.75326654, 4762.90995259]])"
      ]
     },
     "execution_count": 28,
     "metadata": {},
     "output_type": "execute_result"
    }
   ],
   "source": [
    "prediccion"
   ]
  },
  {
   "cell_type": "markdown",
   "id": "2408dcaf",
   "metadata": {},
   "source": [
    "- **Agrego la predicción** de las dos columnas al dataset de **prueba**"
   ]
  },
  {
   "cell_type": "code",
   "execution_count": 29,
   "id": "ecd54baa",
   "metadata": {},
   "outputs": [],
   "source": [
    "test[cols] = prediccion"
   ]
  },
  {
   "cell_type": "code",
   "execution_count": 30,
   "id": "55b0410b",
   "metadata": {},
   "outputs": [
    {
     "data": {
      "text/html": [
       "<div>\n",
       "<style scoped>\n",
       "    .dataframe tbody tr th:only-of-type {\n",
       "        vertical-align: middle;\n",
       "    }\n",
       "\n",
       "    .dataframe tbody tr th {\n",
       "        vertical-align: top;\n",
       "    }\n",
       "\n",
       "    .dataframe thead th {\n",
       "        text-align: right;\n",
       "    }\n",
       "</style>\n",
       "<table border=\"1\" class=\"dataframe\">\n",
       "  <thead>\n",
       "    <tr style=\"text-align: right;\">\n",
       "      <th></th>\n",
       "      <th>bill_depth_mm</th>\n",
       "      <th>flipper_length_mm</th>\n",
       "      <th>sex</th>\n",
       "      <th>species_Adelie</th>\n",
       "      <th>species_Chinstrap</th>\n",
       "      <th>species_Gentoo</th>\n",
       "      <th>island_Biscoe</th>\n",
       "      <th>island_Dream</th>\n",
       "      <th>island_Torgersen</th>\n",
       "      <th>bill_length_mm</th>\n",
       "      <th>body_mass_g</th>\n",
       "    </tr>\n",
       "  </thead>\n",
       "  <tbody>\n",
       "    <tr>\n",
       "      <th>3</th>\n",
       "      <td>17.15117</td>\n",
       "      <td>200.915205</td>\n",
       "      <td>1.0</td>\n",
       "      <td>1</td>\n",
       "      <td>0</td>\n",
       "      <td>0</td>\n",
       "      <td>0</td>\n",
       "      <td>0</td>\n",
       "      <td>1</td>\n",
       "      <td>38.752012</td>\n",
       "      <td>3547.638597</td>\n",
       "    </tr>\n",
       "    <tr>\n",
       "      <th>7</th>\n",
       "      <td>19.60000</td>\n",
       "      <td>195.000000</td>\n",
       "      <td>0.0</td>\n",
       "      <td>1</td>\n",
       "      <td>0</td>\n",
       "      <td>0</td>\n",
       "      <td>0</td>\n",
       "      <td>0</td>\n",
       "      <td>1</td>\n",
       "      <td>41.442007</td>\n",
       "      <td>4026.529563</td>\n",
       "    </tr>\n",
       "    <tr>\n",
       "      <th>11</th>\n",
       "      <td>17.30000</td>\n",
       "      <td>180.000000</td>\n",
       "      <td>0.0</td>\n",
       "      <td>1</td>\n",
       "      <td>0</td>\n",
       "      <td>0</td>\n",
       "      <td>0</td>\n",
       "      <td>0</td>\n",
       "      <td>1</td>\n",
       "      <td>39.129527</td>\n",
       "      <td>3522.638306</td>\n",
       "    </tr>\n",
       "    <tr>\n",
       "      <th>12</th>\n",
       "      <td>17.60000</td>\n",
       "      <td>182.000000</td>\n",
       "      <td>1.0</td>\n",
       "      <td>1</td>\n",
       "      <td>0</td>\n",
       "      <td>0</td>\n",
       "      <td>0</td>\n",
       "      <td>0</td>\n",
       "      <td>1</td>\n",
       "      <td>37.220036</td>\n",
       "      <td>3220.005106</td>\n",
       "    </tr>\n",
       "    <tr>\n",
       "      <th>18</th>\n",
       "      <td>18.40000</td>\n",
       "      <td>184.000000</td>\n",
       "      <td>1.0</td>\n",
       "      <td>1</td>\n",
       "      <td>0</td>\n",
       "      <td>0</td>\n",
       "      <td>0</td>\n",
       "      <td>0</td>\n",
       "      <td>1</td>\n",
       "      <td>37.732245</td>\n",
       "      <td>3332.526805</td>\n",
       "    </tr>\n",
       "  </tbody>\n",
       "</table>\n",
       "</div>"
      ],
      "text/plain": [
       "    bill_depth_mm  flipper_length_mm  sex  species_Adelie  species_Chinstrap  \\\n",
       "3        17.15117         200.915205  1.0               1                  0   \n",
       "7        19.60000         195.000000  0.0               1                  0   \n",
       "11       17.30000         180.000000  0.0               1                  0   \n",
       "12       17.60000         182.000000  1.0               1                  0   \n",
       "18       18.40000         184.000000  1.0               1                  0   \n",
       "\n",
       "    species_Gentoo  island_Biscoe  island_Dream  island_Torgersen  \\\n",
       "3                0              0             0                 1   \n",
       "7                0              0             0                 1   \n",
       "11               0              0             0                 1   \n",
       "12               0              0             0                 1   \n",
       "18               0              0             0                 1   \n",
       "\n",
       "    bill_length_mm  body_mass_g  \n",
       "3        38.752012  3547.638597  \n",
       "7        41.442007  4026.529563  \n",
       "11       39.129527  3522.638306  \n",
       "12       37.220036  3220.005106  \n",
       "18       37.732245  3332.526805  "
      ]
     },
     "execution_count": 30,
     "metadata": {},
     "output_type": "execute_result"
    }
   ],
   "source": [
    "test.head()"
   ]
  },
  {
   "cell_type": "markdown",
   "id": "17745954",
   "metadata": {},
   "source": [
    "- Ahora **no hay valores faltantes** en ninguno de los dos datasets"
   ]
  },
  {
   "cell_type": "code",
   "execution_count": 31,
   "id": "4f4e9326",
   "metadata": {
    "scrolled": true
   },
   "outputs": [
    {
     "data": {
      "text/plain": [
       "bill_length_mm       0\n",
       "bill_depth_mm        0\n",
       "flipper_length_mm    0\n",
       "body_mass_g          0\n",
       "sex                  0\n",
       "species_Adelie       0\n",
       "species_Chinstrap    0\n",
       "species_Gentoo       0\n",
       "island_Biscoe        0\n",
       "island_Dream         0\n",
       "island_Torgersen     0\n",
       "dtype: int64"
      ]
     },
     "execution_count": 31,
     "metadata": {},
     "output_type": "execute_result"
    }
   ],
   "source": [
    "train.isnull().sum()"
   ]
  },
  {
   "cell_type": "code",
   "execution_count": 32,
   "id": "2dfd2128",
   "metadata": {},
   "outputs": [
    {
     "data": {
      "text/plain": [
       "bill_depth_mm        0\n",
       "flipper_length_mm    0\n",
       "sex                  0\n",
       "species_Adelie       0\n",
       "species_Chinstrap    0\n",
       "species_Gentoo       0\n",
       "island_Biscoe        0\n",
       "island_Dream         0\n",
       "island_Torgersen     0\n",
       "bill_length_mm       0\n",
       "body_mass_g          0\n",
       "dtype: int64"
      ]
     },
     "execution_count": 32,
     "metadata": {},
     "output_type": "execute_result"
    }
   ],
   "source": [
    "test.isnull().sum()"
   ]
  },
  {
   "cell_type": "markdown",
   "id": "c93b0f68",
   "metadata": {},
   "source": [
    "- **Fusiono** los dos datasets para que me quede nuevamente toda la información completa en uno solo sin valores faltantes"
   ]
  },
  {
   "cell_type": "code",
   "execution_count": 33,
   "id": "cf7f68cb",
   "metadata": {},
   "outputs": [
    {
     "data": {
      "text/plain": [
       "(21, 11)"
      ]
     },
     "execution_count": 33,
     "metadata": {},
     "output_type": "execute_result"
    }
   ],
   "source": [
    "test.shape"
   ]
  },
  {
   "cell_type": "code",
   "execution_count": 34,
   "id": "74349ff9",
   "metadata": {},
   "outputs": [
    {
     "data": {
      "text/html": [
       "<div>\n",
       "<style scoped>\n",
       "    .dataframe tbody tr th:only-of-type {\n",
       "        vertical-align: middle;\n",
       "    }\n",
       "\n",
       "    .dataframe tbody tr th {\n",
       "        vertical-align: top;\n",
       "    }\n",
       "\n",
       "    .dataframe thead th {\n",
       "        text-align: right;\n",
       "    }\n",
       "</style>\n",
       "<table border=\"1\" class=\"dataframe\">\n",
       "  <thead>\n",
       "    <tr style=\"text-align: right;\">\n",
       "      <th></th>\n",
       "      <th>bill_depth_mm</th>\n",
       "      <th>flipper_length_mm</th>\n",
       "      <th>sex</th>\n",
       "      <th>species_Adelie</th>\n",
       "      <th>species_Chinstrap</th>\n",
       "      <th>species_Gentoo</th>\n",
       "      <th>island_Biscoe</th>\n",
       "      <th>island_Dream</th>\n",
       "      <th>island_Torgersen</th>\n",
       "      <th>bill_length_mm</th>\n",
       "      <th>body_mass_g</th>\n",
       "    </tr>\n",
       "  </thead>\n",
       "  <tbody>\n",
       "    <tr>\n",
       "      <th>3</th>\n",
       "      <td>17.15117</td>\n",
       "      <td>200.915205</td>\n",
       "      <td>1.0</td>\n",
       "      <td>1</td>\n",
       "      <td>0</td>\n",
       "      <td>0</td>\n",
       "      <td>0</td>\n",
       "      <td>0</td>\n",
       "      <td>1</td>\n",
       "      <td>38.752012</td>\n",
       "      <td>3547.638597</td>\n",
       "    </tr>\n",
       "    <tr>\n",
       "      <th>7</th>\n",
       "      <td>19.60000</td>\n",
       "      <td>195.000000</td>\n",
       "      <td>0.0</td>\n",
       "      <td>1</td>\n",
       "      <td>0</td>\n",
       "      <td>0</td>\n",
       "      <td>0</td>\n",
       "      <td>0</td>\n",
       "      <td>1</td>\n",
       "      <td>41.442007</td>\n",
       "      <td>4026.529563</td>\n",
       "    </tr>\n",
       "    <tr>\n",
       "      <th>11</th>\n",
       "      <td>17.30000</td>\n",
       "      <td>180.000000</td>\n",
       "      <td>0.0</td>\n",
       "      <td>1</td>\n",
       "      <td>0</td>\n",
       "      <td>0</td>\n",
       "      <td>0</td>\n",
       "      <td>0</td>\n",
       "      <td>1</td>\n",
       "      <td>39.129527</td>\n",
       "      <td>3522.638306</td>\n",
       "    </tr>\n",
       "    <tr>\n",
       "      <th>12</th>\n",
       "      <td>17.60000</td>\n",
       "      <td>182.000000</td>\n",
       "      <td>1.0</td>\n",
       "      <td>1</td>\n",
       "      <td>0</td>\n",
       "      <td>0</td>\n",
       "      <td>0</td>\n",
       "      <td>0</td>\n",
       "      <td>1</td>\n",
       "      <td>37.220036</td>\n",
       "      <td>3220.005106</td>\n",
       "    </tr>\n",
       "    <tr>\n",
       "      <th>18</th>\n",
       "      <td>18.40000</td>\n",
       "      <td>184.000000</td>\n",
       "      <td>1.0</td>\n",
       "      <td>1</td>\n",
       "      <td>0</td>\n",
       "      <td>0</td>\n",
       "      <td>0</td>\n",
       "      <td>0</td>\n",
       "      <td>1</td>\n",
       "      <td>37.732245</td>\n",
       "      <td>3332.526805</td>\n",
       "    </tr>\n",
       "  </tbody>\n",
       "</table>\n",
       "</div>"
      ],
      "text/plain": [
       "    bill_depth_mm  flipper_length_mm  sex  species_Adelie  species_Chinstrap  \\\n",
       "3        17.15117         200.915205  1.0               1                  0   \n",
       "7        19.60000         195.000000  0.0               1                  0   \n",
       "11       17.30000         180.000000  0.0               1                  0   \n",
       "12       17.60000         182.000000  1.0               1                  0   \n",
       "18       18.40000         184.000000  1.0               1                  0   \n",
       "\n",
       "    species_Gentoo  island_Biscoe  island_Dream  island_Torgersen  \\\n",
       "3                0              0             0                 1   \n",
       "7                0              0             0                 1   \n",
       "11               0              0             0                 1   \n",
       "12               0              0             0                 1   \n",
       "18               0              0             0                 1   \n",
       "\n",
       "    bill_length_mm  body_mass_g  \n",
       "3        38.752012  3547.638597  \n",
       "7        41.442007  4026.529563  \n",
       "11       39.129527  3522.638306  \n",
       "12       37.220036  3220.005106  \n",
       "18       37.732245  3332.526805  "
      ]
     },
     "execution_count": 34,
     "metadata": {},
     "output_type": "execute_result"
    }
   ],
   "source": [
    "test.head()"
   ]
  },
  {
   "cell_type": "code",
   "execution_count": 35,
   "id": "da4ba55a",
   "metadata": {},
   "outputs": [
    {
     "data": {
      "text/plain": [
       "(323, 11)"
      ]
     },
     "execution_count": 35,
     "metadata": {},
     "output_type": "execute_result"
    }
   ],
   "source": [
    "train.shape"
   ]
  },
  {
   "cell_type": "code",
   "execution_count": 36,
   "id": "2c096188",
   "metadata": {},
   "outputs": [
    {
     "data": {
      "text/html": [
       "<div>\n",
       "<style scoped>\n",
       "    .dataframe tbody tr th:only-of-type {\n",
       "        vertical-align: middle;\n",
       "    }\n",
       "\n",
       "    .dataframe tbody tr th {\n",
       "        vertical-align: top;\n",
       "    }\n",
       "\n",
       "    .dataframe thead th {\n",
       "        text-align: right;\n",
       "    }\n",
       "</style>\n",
       "<table border=\"1\" class=\"dataframe\">\n",
       "  <thead>\n",
       "    <tr style=\"text-align: right;\">\n",
       "      <th></th>\n",
       "      <th>bill_length_mm</th>\n",
       "      <th>bill_depth_mm</th>\n",
       "      <th>flipper_length_mm</th>\n",
       "      <th>body_mass_g</th>\n",
       "      <th>sex</th>\n",
       "      <th>species_Adelie</th>\n",
       "      <th>species_Chinstrap</th>\n",
       "      <th>species_Gentoo</th>\n",
       "      <th>island_Biscoe</th>\n",
       "      <th>island_Dream</th>\n",
       "      <th>island_Torgersen</th>\n",
       "    </tr>\n",
       "  </thead>\n",
       "  <tbody>\n",
       "    <tr>\n",
       "      <th>0</th>\n",
       "      <td>39.1</td>\n",
       "      <td>18.7</td>\n",
       "      <td>181.0</td>\n",
       "      <td>3750.0</td>\n",
       "      <td>0.0</td>\n",
       "      <td>1</td>\n",
       "      <td>0</td>\n",
       "      <td>0</td>\n",
       "      <td>0</td>\n",
       "      <td>0</td>\n",
       "      <td>1</td>\n",
       "    </tr>\n",
       "    <tr>\n",
       "      <th>1</th>\n",
       "      <td>39.5</td>\n",
       "      <td>17.4</td>\n",
       "      <td>186.0</td>\n",
       "      <td>3800.0</td>\n",
       "      <td>1.0</td>\n",
       "      <td>1</td>\n",
       "      <td>0</td>\n",
       "      <td>0</td>\n",
       "      <td>0</td>\n",
       "      <td>0</td>\n",
       "      <td>1</td>\n",
       "    </tr>\n",
       "    <tr>\n",
       "      <th>2</th>\n",
       "      <td>40.3</td>\n",
       "      <td>18.0</td>\n",
       "      <td>195.0</td>\n",
       "      <td>3250.0</td>\n",
       "      <td>1.0</td>\n",
       "      <td>1</td>\n",
       "      <td>0</td>\n",
       "      <td>0</td>\n",
       "      <td>0</td>\n",
       "      <td>0</td>\n",
       "      <td>1</td>\n",
       "    </tr>\n",
       "    <tr>\n",
       "      <th>4</th>\n",
       "      <td>36.7</td>\n",
       "      <td>19.3</td>\n",
       "      <td>193.0</td>\n",
       "      <td>3450.0</td>\n",
       "      <td>1.0</td>\n",
       "      <td>1</td>\n",
       "      <td>0</td>\n",
       "      <td>0</td>\n",
       "      <td>0</td>\n",
       "      <td>0</td>\n",
       "      <td>1</td>\n",
       "    </tr>\n",
       "    <tr>\n",
       "      <th>5</th>\n",
       "      <td>39.3</td>\n",
       "      <td>20.6</td>\n",
       "      <td>190.0</td>\n",
       "      <td>3650.0</td>\n",
       "      <td>0.0</td>\n",
       "      <td>1</td>\n",
       "      <td>0</td>\n",
       "      <td>0</td>\n",
       "      <td>0</td>\n",
       "      <td>0</td>\n",
       "      <td>1</td>\n",
       "    </tr>\n",
       "  </tbody>\n",
       "</table>\n",
       "</div>"
      ],
      "text/plain": [
       "   bill_length_mm  bill_depth_mm  flipper_length_mm  body_mass_g  sex  \\\n",
       "0            39.1           18.7              181.0       3750.0  0.0   \n",
       "1            39.5           17.4              186.0       3800.0  1.0   \n",
       "2            40.3           18.0              195.0       3250.0  1.0   \n",
       "4            36.7           19.3              193.0       3450.0  1.0   \n",
       "5            39.3           20.6              190.0       3650.0  0.0   \n",
       "\n",
       "   species_Adelie  species_Chinstrap  species_Gentoo  island_Biscoe  \\\n",
       "0               1                  0               0              0   \n",
       "1               1                  0               0              0   \n",
       "2               1                  0               0              0   \n",
       "4               1                  0               0              0   \n",
       "5               1                  0               0              0   \n",
       "\n",
       "   island_Dream  island_Torgersen  \n",
       "0             0                 1  \n",
       "1             0                 1  \n",
       "2             0                 1  \n",
       "4             0                 1  \n",
       "5             0                 1  "
      ]
     },
     "execution_count": 36,
     "metadata": {},
     "output_type": "execute_result"
    }
   ],
   "source": [
    "train.head()"
   ]
  },
  {
   "cell_type": "code",
   "execution_count": null,
   "id": "c6779094",
   "metadata": {},
   "outputs": [],
   "source": []
  },
  {
   "cell_type": "code",
   "execution_count": null,
   "id": "32579b66",
   "metadata": {},
   "outputs": [],
   "source": []
  }
 ],
 "metadata": {
  "kernelspec": {
   "display_name": "Python 3 (ipykernel)",
   "language": "python",
   "name": "python3"
  },
  "language_info": {
   "codemirror_mode": {
    "name": "ipython",
    "version": 3
   },
   "file_extension": ".py",
   "mimetype": "text/x-python",
   "name": "python",
   "nbconvert_exporter": "python",
   "pygments_lexer": "ipython3",
   "version": "3.9.13"
  }
 },
 "nbformat": 4,
 "nbformat_minor": 5
}
